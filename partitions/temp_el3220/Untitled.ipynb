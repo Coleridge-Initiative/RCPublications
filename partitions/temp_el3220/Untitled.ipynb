{
 "cells": [
  {
   "cell_type": "code",
   "execution_count": 42,
   "metadata": {},
   "outputs": [],
   "source": [
    "import json\n",
    "import numpy as np\n",
    "import math "
   ]
  },
  {
   "cell_type": "code",
   "execution_count": 49,
   "metadata": {},
   "outputs": [],
   "source": [
    "files = [\n",
    "'20190607_bundesbank_publications.json',\n",
    "'20190610_usda_iri_publications.json',\n",
    "'20190619_usda_foodaps_publications.json',\n",
    "'20190717_usda_snap_publications.json',\n",
    "'20190717_usda_wic_publications.json',\n",
    "'20190731_bundesbank_publications.json',\n",
    "'20190913_usda_excel_publications.json',\n",
    "'20190920_usda_endnote_publications.json',\n",
    "'20190923_chapinhall_publications.json',\n",
    "'20191118_ncses_highered_publications.json',\n",
    "'20191119_ArizonaTemporaryAssistanceforNeedyFamilies_publications.json',\n",
    "'20191119_ArizonaUnemploymentInsurance_publications.json',\n",
    "'20191119_CaliforniaUnemploymentInsurance_publications.json',\n",
    "'20191119_CurrentEmploymentStatisticsSurveyData_publications.json',\n",
    "'20191119_DepartmentofPublicInstruction_publications.json',\n",
    "'20191119_ES-202Files_publications.json',\n",
    "'20191119_FloridaWAGES_publications.json',\n",
    "'20191119_HigherEducationResearchandDevelopmentSurvey_publications.json',\n",
    "'20191119_IllinoisUnemploymentInsurance_publications.json',\n",
    "'20191119_KentuckyUnemploymentInsurance_publications.json',\n",
    "'20191119_LongitudinalEmployer-HouseholdDynamicsOrigin-DestinationEmploymentStatistics_publications.json',\n",
    "'20191119_MaintenanceofEffort_publications.json',\n",
    "'20191119_MarylandAutomatedBenefitsSystem_publications.json',\n",
    "'20191119_MarylandUnemploymentInsurance_publications.json',\n",
    "'20191119_MassachusettsTemporaryAssistanceforNeedyFamilies_publications.json',\n",
    "'20191119_Medi-Caldata_publications.json',\n",
    "'20191119_MinnesotaTemporaryAssistanceforNeedyFamilies_publications.json',\n",
    "'20191119_MissouriTemporaryAssistanceforNeedyFamilies_publications.json',\n",
    "'20191119_Multi-SamplePersonFile_publications.json',\n",
    "'20191119_NationalCenterforEducationStatisticsData_publications.json',\n",
    "'20191119_NationalCorrectionsReportingProgram_publications.json',\n",
    "'20191119_NewYorkStateDepartmentofLaborUnemploymentInsurance_publications.json',\n",
    "'20191119_NewYorkUnemploymentInsurance_publications.json',\n",
    "'20191119_PanelStudyofIncomeDynamics_publications.json',\n",
    "'20191119_PennsylvaniaUnemploymentInsurance_publications.json',\n",
    "'20191119_PublicSchools_publications.json',\n",
    "'20191119_QuarterlyCensusofEmploymentandWages_publications.json',\n",
    "'20191119_QuarterlyWorkforceIndicators_publications.json',\n",
    "'20191119_SouthCarolinaUnemploymentInsurance_publications.json',\n",
    "'20191119_SurveyofDoctorateRecipients_publications.json',\n",
    "'20191119_SurveyofEarnedDoctorates_publications.json',\n",
    "'20191119_SurveyofIncomeandProgramParticipation_publications.json',\n",
    "'20191119_SurveyofInmatesinStateCorrectionalFacilities_publications.json',\n",
    "'20191119_TemporaryAssistanceforNeedyFamilies_publications.json',\n",
    "'20191119_TexasUnemploymentInsurance_publications.json',\n",
    "'20191119_TheHealthyEatingIndex_publications.json',\n",
    "'20191119_UnemploymentInsurancewagedata_publications.json',\n",
    "'20191119_VocationalRehabilitationInitiative_publications.json',\n",
    "'20191119_WashingtonUnemploymentInsurance_publications.json',\n",
    "'20191119_WisconsinDepartmentofCorrections_publications.json',\n",
    "'20191119_WisconsinUnemploymentInsurance_publications.json',\n",
    "'20191119_WisconsinWorks_W-2_publications.json',\n",
    "'20191119_Women,Infants,andChildren_publications.json',\n",
    "'20191119_WomensEmploymentStudy_publications.json',\n",
    "'20191119_WorkforceInvestmentActStandardizedRecordData_publications.json'\n",
    "]"
   ]
  },
  {
   "cell_type": "code",
   "execution_count": 51,
   "metadata": {},
   "outputs": [],
   "source": [
    "for file_path_res in files: \n",
    "    file_path = '../' + file_path_res\n",
    "\n",
    "    with open(file_path, 'r') as file:\n",
    "        json_data = json.load(file)\n",
    "        for item in json_data:\n",
    "            original = item['original']\n",
    "            for key in [key for key in original if isinstance(original[key], float) and np.isnan(original[key])]: \n",
    "                del original[key] \n",
    "    with open('./'+file_path_res, 'w') as outfile:\n",
    "        json.dump(json_data, outfile, indent=2)"
   ]
  },
  {
   "cell_type": "code",
   "execution_count": 46,
   "metadata": {},
   "outputs": [],
   "source": []
  },
  {
   "cell_type": "code",
   "execution_count": null,
   "metadata": {},
   "outputs": [],
   "source": []
  }
 ],
 "metadata": {
  "kernelspec": {
   "display_name": "Python 3",
   "language": "python",
   "name": "python3"
  },
  "language_info": {
   "codemirror_mode": {
    "name": "ipython",
    "version": 3
   },
   "file_extension": ".py",
   "mimetype": "text/x-python",
   "name": "python",
   "nbconvert_exporter": "python",
   "pygments_lexer": "ipython3",
   "version": "3.7.4"
  }
 },
 "nbformat": 4,
 "nbformat_minor": 2
}
